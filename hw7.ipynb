{
 "cells": [
  {
   "cell_type": "code",
   "execution_count": 23,
   "metadata": {},
   "outputs": [],
   "source": [
    "import numpy as np\n",
    "from numpy.linalg import eig"
   ]
  },
  {
   "cell_type": "markdown",
   "metadata": {},
   "source": [
    "## Pauli Matrices\n",
    "파울리 행렬의 아이겐밸류와 아이겐벡터를 구하시오."
   ]
  },
  {
   "cell_type": "code",
   "execution_count": 24,
   "metadata": {},
   "outputs": [
    {
     "data": {
      "text/plain": [
       "(matrix([[0, 1],\n",
       "         [1, 0]]),\n",
       " matrix([[ 0.+0.j, -0.-1.j],\n",
       "         [ 0.+1.j,  0.+0.j]]),\n",
       " matrix([[ 1,  0],\n",
       "         [ 0, -1]]))"
      ]
     },
     "execution_count": 24,
     "metadata": {},
     "output_type": "execute_result"
    }
   ],
   "source": [
    "sx= np.matrix('0,1;1,0')\n",
    "sy= np.matrix('0,-1j;1j,0')\n",
    "sz= np.matrix('1,0;0,-1')\n",
    "sx,sy,sz"
   ]
  },
  {
   "cell_type": "code",
   "execution_count": 32,
   "metadata": {},
   "outputs": [
    {
     "data": {
      "text/plain": [
       "(array([ 1., -1.]),\n",
       " matrix([[ 0.70710678, -0.70710678],\n",
       "         [ 0.70710678,  0.70710678]]))"
      ]
     },
     "execution_count": 32,
     "metadata": {},
     "output_type": "execute_result"
    }
   ],
   "source": [
    "eig(sx)[0], eig(sx)[1]"
   ]
  },
  {
   "cell_type": "code",
   "execution_count": 29,
   "metadata": {},
   "outputs": [
    {
     "data": {
      "text/plain": [
       "(array([ 1.+0.j, -1.+0.j]),\n",
       " matrix([[-0.        -0.70710678j,  0.70710678+0.j        ],\n",
       "         [ 0.70710678+0.j        ,  0.        -0.70710678j]]))"
      ]
     },
     "execution_count": 29,
     "metadata": {},
     "output_type": "execute_result"
    }
   ],
   "source": [
    "eig(sy)[0], eig(sy)[1]"
   ]
  },
  {
   "cell_type": "code",
   "execution_count": 30,
   "metadata": {},
   "outputs": [
    {
     "data": {
      "text/plain": [
       "(array([ 1., -1.]),\n",
       " matrix([[1., 0.],\n",
       "         [0., 1.]]))"
      ]
     },
     "execution_count": 30,
     "metadata": {},
     "output_type": "execute_result"
    }
   ],
   "source": [
    "eig(sz)[0], eig(sz)[1]"
   ]
  },
  {
   "cell_type": "markdown",
   "metadata": {},
   "source": [
    "## Normal Modes\n",
    "### (고전역학 by Thornton & Marion 챕터 12.2 및 예제 12.3 참조) 용수철 상수가 $k$인 용수철에 연결된 두 개의 물체의 노말 모드를 구해보자. 두 개의 물체의 운동방정식은 다음으로 주어진다.<br>$$ -m w^2 x_1 = -2kx_1 +k x_2, \\\\\n",
    "-m w^2 x_2 = k x_1 - 2 k x_2.$$ <br> eigenfrequencies $w$는 다음의 행렬식을 통해 구할 수 있다."
   ]
  },
  {
   "cell_type": "code",
   "execution_count": 48,
   "metadata": {},
   "outputs": [
    {
     "data": {
      "text/plain": [
       "(array([3., 1.]),\n",
       " matrix([[ 0.70710678,  0.70710678],\n",
       "         [-0.70710678,  0.70710678]]))"
      ]
     },
     "execution_count": 48,
     "metadata": {},
     "output_type": "execute_result"
    }
   ],
   "source": [
    "# 행렬 ([2,-1],[-1,2]) 의 고유값\n",
    "M = np.matrix('2,-1;-1,2')\n",
    "eig(M)"
   ]
  },
  {
   "cell_type": "markdown",
   "metadata": {},
   "source": [
    "eigenvector $ V = \\ \\begin{pmatrix} 1/\\sqrt{2} & 1/\\sqrt{2}  \\\\ -1/\\sqrt{2}  &1/\\sqrt{2}  \\end{pmatrix} = \\begin{pmatrix} \\cos-\\pi/4 & -\\sin-\\pi/4  \\\\ \\sin-\\pi/4 & \\cos-\\pi/4 \\end{pmatrix} $ 으로 -45도 만큼 돌리는 회전행렬과 같고,<br> D가 대각성분이 eigenvalue인 대각행렬 이라하면, $ M = VDV^{-1} $ 이므로<br> $MX=VDV^{-1}X$는 $x_1,x_2$를 45도 만큼 회전시킨 후, $x_1 \\rightarrow 3x_1$, $x_2 \\rightarrow x_2$ 만큼 바꾸고, 다시 -45도 만큼 회전 시키는 변환이다."
   ]
  }
 ],
 "metadata": {
  "kernelspec": {
   "display_name": "Python 3",
   "language": "python",
   "name": "python3"
  },
  "language_info": {
   "codemirror_mode": {
    "name": "ipython",
    "version": 3
   },
   "file_extension": ".py",
   "mimetype": "text/x-python",
   "name": "python",
   "nbconvert_exporter": "python",
   "pygments_lexer": "ipython3",
   "version": "3.8.5"
  }
 },
 "nbformat": 4,
 "nbformat_minor": 4
}
