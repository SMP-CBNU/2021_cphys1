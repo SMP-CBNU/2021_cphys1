{
 "cells": [
  {
   "cell_type": "markdown",
   "metadata": {},
   "source": [
    "\n",
    "sympy를 이용하여 다음 적분들을 계산하세요.\n",
    "\n",
    "$ \\int_{-\\infty}^{\\infty} e^{-ax^2} dx $<br>\n",
    "$ \\int_{-\\infty}^{\\infty} x e^{-ax^2} dx $<br>\n",
    "$ \\int_{-\\infty}^{\\infty} x^2 e^{-ax^2} dx $<br>\n",
    "$ \\int_{-\\infty}^{\\infty} x^4 e^{-ax^2} dx $"
   ]
  },
  {
   "cell_type": "code",
   "execution_count": 1,
   "metadata": {},
   "outputs": [],
   "source": [
    "import numpy as np\n",
    "import sympy\n",
    "from sympy import Symbol\n",
    "from sympy import symbols\n",
    "from sympy import *\n",
    "from sympy import integrate\n",
    "x,a = symbols ('x,a')"
   ]
  },
  {
   "cell_type": "markdown",
   "metadata": {},
   "source": [
    "### $ \\int_{-\\infty}^{\\infty} e^{-ax^2} dx $"
   ]
  },
  {
   "cell_type": "code",
   "execution_count": 2,
   "metadata": {},
   "outputs": [
    {
     "data": {
      "text/latex": [
       "$\\displaystyle \\begin{cases} \\frac{\\sqrt{\\pi}}{\\sqrt{a}} & \\text{for}\\: \\left|{\\arg{\\left(a \\right)}}\\right| \\leq \\frac{\\pi}{2} \\\\\\int\\limits_{-\\infty}^{\\infty} e^{- a x^{2}}\\, dx & \\text{otherwise} \\end{cases}$"
      ],
      "text/plain": [
       "Piecewise((sqrt(pi)/sqrt(a), Abs(arg(a)) <= pi/2), (Integral(exp(-a*x**2), (x, -oo, oo)), True))"
      ]
     },
     "execution_count": 2,
     "metadata": {},
     "output_type": "execute_result"
    }
   ],
   "source": [
    "integrate(sympy.exp(-a*x**2),(x,-sympy.oo,sympy.oo))"
   ]
  },
  {
   "cell_type": "markdown",
   "metadata": {},
   "source": [
    "### $ \\int_{-\\infty}^{\\infty} x e^{-ax^2} dx $"
   ]
  },
  {
   "cell_type": "code",
   "execution_count": 3,
   "metadata": {},
   "outputs": [
    {
     "data": {
      "text/latex": [
       "$\\displaystyle \\begin{cases} 0 & \\text{for}\\: \\left|{\\arg{\\left(a \\right)}}\\right| < \\frac{\\pi}{2} \\\\\\int\\limits_{-\\infty}^{\\infty} x e^{- a x^{2}}\\, dx & \\text{otherwise} \\end{cases}$"
      ],
      "text/plain": [
       "Piecewise((0, Abs(arg(a)) < pi/2), (Integral(x*exp(-a*x**2), (x, -oo, oo)), True))"
      ]
     },
     "execution_count": 3,
     "metadata": {},
     "output_type": "execute_result"
    }
   ],
   "source": [
    "integrate(x*sympy.exp(-a*x**2),(x,-sympy.oo,sympy.oo))"
   ]
  },
  {
   "cell_type": "markdown",
   "metadata": {},
   "source": [
    "### $ \\int_{-\\infty}^{\\infty} x^2 e^{-ax^2} dx $"
   ]
  },
  {
   "cell_type": "code",
   "execution_count": 4,
   "metadata": {},
   "outputs": [
    {
     "data": {
      "text/latex": [
       "$\\displaystyle \\begin{cases} \\frac{\\sqrt{\\pi}}{2 a^{\\frac{3}{2}}} & \\text{for}\\: \\left|{\\arg{\\left(a \\right)}}\\right| < \\frac{\\pi}{2} \\\\\\int\\limits_{-\\infty}^{\\infty} x^{2} e^{- a x^{2}}\\, dx & \\text{otherwise} \\end{cases}$"
      ],
      "text/plain": [
       "Piecewise((sqrt(pi)/(2*a**(3/2)), Abs(arg(a)) < pi/2), (Integral(x**2*exp(-a*x**2), (x, -oo, oo)), True))"
      ]
     },
     "execution_count": 4,
     "metadata": {},
     "output_type": "execute_result"
    }
   ],
   "source": [
    "integrate(x**2*sympy.exp(-a*x**2),(x,-sympy.oo,sympy.oo))"
   ]
  },
  {
   "cell_type": "markdown",
   "metadata": {},
   "source": [
    "### $ \\int_{-\\infty}^{\\infty} x^4 e^{-ax^2} dx $"
   ]
  },
  {
   "cell_type": "code",
   "execution_count": 5,
   "metadata": {},
   "outputs": [
    {
     "data": {
      "text/latex": [
       "$\\displaystyle \\begin{cases} \\frac{3 \\sqrt{\\pi}}{4 a^{\\frac{5}{2}}} & \\text{for}\\: \\left|{\\arg{\\left(a \\right)}}\\right| < \\frac{\\pi}{2} \\\\\\int\\limits_{-\\infty}^{\\infty} x^{4} e^{- a x^{2}}\\, dx & \\text{otherwise} \\end{cases}$"
      ],
      "text/plain": [
       "Piecewise((3*sqrt(pi)/(4*a**(5/2)), Abs(arg(a)) < pi/2), (Integral(x**4*exp(-a*x**2), (x, -oo, oo)), True))"
      ]
     },
     "execution_count": 5,
     "metadata": {},
     "output_type": "execute_result"
    }
   ],
   "source": [
    "integrate(x**4*sympy.exp(-a*x**2),(x,-sympy.oo,sympy.oo))"
   ]
  },
  {
   "cell_type": "markdown",
   "metadata": {},
   "source": [
    "### $|arg(𝑎)|<\\frac{𝜋}{2} \\rightarrow Re[a]>0 $"
   ]
  },
  {
   "cell_type": "markdown",
   "metadata": {},
   "source": [
    "<br>"
   ]
  },
  {
   "cell_type": "markdown",
   "metadata": {},
   "source": [
    "\n",
    "# 미분방정식\n",
    "sympy를 이용해서 다음의 간단한 미분방정식을 풀어보세요.\n",
    "\n",
    "$$ x'(t)=- a x.$$\n",
    "\n",
    "초기조건은 다음과 같다. $x(0)=1$."
   ]
  },
  {
   "cell_type": "code",
   "execution_count": 6,
   "metadata": {},
   "outputs": [],
   "source": [
    "t = Symbol('t')\n",
    "x = Function('x')"
   ]
  },
  {
   "cell_type": "code",
   "execution_count": 7,
   "metadata": {},
   "outputs": [
    {
     "data": {
      "text/latex": [
       "$\\displaystyle \\frac{d}{d t} x{\\left(t \\right)} = - a x{\\left(t \\right)}$"
      ],
      "text/plain": [
       "Eq(Derivative(x(t), t), -a*x(t))"
      ]
     },
     "execution_count": 7,
     "metadata": {},
     "output_type": "execute_result"
    }
   ],
   "source": [
    "deq=Eq(x(t).diff(t),-a*x(t))\n",
    "deq"
   ]
  },
  {
   "cell_type": "code",
   "execution_count": 8,
   "metadata": {},
   "outputs": [
    {
     "data": {
      "text/latex": [
       "$\\displaystyle x{\\left(t \\right)} = C_{1} e^{- a t}$"
      ],
      "text/plain": [
       "Eq(x(t), C1*exp(-a*t))"
      ]
     },
     "execution_count": 8,
     "metadata": {},
     "output_type": "execute_result"
    }
   ],
   "source": [
    "dsolve(deq,x(t))"
   ]
  },
  {
   "cell_type": "code",
   "execution_count": 10,
   "metadata": {},
   "outputs": [
    {
     "data": {
      "text/latex": [
       "$\\displaystyle x{\\left(t \\right)} = e^{- a t}$"
      ],
      "text/plain": [
       "Eq(x(t), exp(-a*t))"
      ]
     },
     "execution_count": 10,
     "metadata": {},
     "output_type": "execute_result"
    }
   ],
   "source": [
    "dsolve(deq,ics={x(0):1}) # x(0)=1 초기조건"
   ]
  }
 ],
 "metadata": {
  "kernelspec": {
   "display_name": "Python 3",
   "language": "python",
   "name": "python3"
  },
  "language_info": {
   "codemirror_mode": {
    "name": "ipython",
    "version": 3
   },
   "file_extension": ".py",
   "mimetype": "text/x-python",
   "name": "python",
   "nbconvert_exporter": "python",
   "pygments_lexer": "ipython3",
   "version": "3.8.5"
  }
 },
 "nbformat": 4,
 "nbformat_minor": 4
}
