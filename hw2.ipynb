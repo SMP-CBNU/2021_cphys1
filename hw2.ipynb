{
 "cells": [
  {
   "cell_type": "markdown",
   "metadata": {},
   "source": [
    "## 함수를 이용하여 다음의 조건에서 $n=1$에서 $20$까지 로지스틱 맵의 값을 구하여라. "
   ]
  },
  {
   "cell_type": "markdown",
   "metadata": {},
   "source": [
    "$$ f_{n+1} = rf_n(1-f_n) $$"
   ]
  },
  {
   "cell_type": "code",
   "execution_count": 1,
   "metadata": {},
   "outputs": [],
   "source": [
    "n=0\n",
    "f_n=0.5\n",
    "r=4.5"
   ]
  },
  {
   "cell_type": "code",
   "execution_count": 2,
   "metadata": {},
   "outputs": [
    {
     "name": "stdout",
     "output_type": "stream",
     "text": [
      "1 1.125\n",
      "2 -0.6328125\n",
      "3 -4.649688720703125\n",
      "4 -118.21182264061645\n",
      "5 -63415.11075595729\n",
      "6 -18096928592.854885\n",
      "7 -1.4737447103084353e+21\n",
      "8 -9.773655620229423e+42\n",
      "9 -4.298595488227898e+86\n",
      "10 -8.315065427135959e+173\n",
      "11 -inf\n",
      "12 -inf\n",
      "13 -inf\n",
      "14 -inf\n",
      "15 -inf\n",
      "16 -inf\n",
      "17 -inf\n",
      "18 -inf\n",
      "19 -inf\n",
      "20 -inf\n"
     ]
    }
   ],
   "source": [
    "while n < 20 :\n",
    "    n += 1\n",
    "    f_n = r*f_n*(1-f_n) \n",
    "    print(n, f_n)"
   ]
  },
  {
   "cell_type": "code",
   "execution_count": 3,
   "metadata": {},
   "outputs": [],
   "source": [
    "n=0\n",
    "f_n=0.51\n",
    "r=4.5"
   ]
  },
  {
   "cell_type": "code",
   "execution_count": 4,
   "metadata": {},
   "outputs": [
    {
     "name": "stdout",
     "output_type": "stream",
     "text": [
      "1 1.12455\n",
      "2 -0.6302821612499996\n",
      "3 -4.623919938179865\n",
      "4 -117.0204998979472\n",
      "5 -62148.68053318534\n",
      "6 -17381342883.134087\n",
      "7 -1.359499861973058e+21\n",
      "8 -8.317079436171436e+42\n",
      "9 -3.11282146564136e+86\n",
      "10 -4.360345864630932e+173\n",
      "11 -inf\n",
      "12 -inf\n",
      "13 -inf\n",
      "14 -inf\n",
      "15 -inf\n",
      "16 -inf\n",
      "17 -inf\n",
      "18 -inf\n",
      "19 -inf\n",
      "20 -inf\n"
     ]
    }
   ],
   "source": [
    "while n < 20 :\n",
    "    n += 1\n",
    "    f_n = r*f_n*(1-f_n) \n",
    "    print(n, f_n)"
   ]
  },
  {
   "cell_type": "code",
   "execution_count": 5,
   "metadata": {},
   "outputs": [],
   "source": [
    "n=0\n",
    "f_n=0.501\n",
    "r=4.5"
   ]
  },
  {
   "cell_type": "code",
   "execution_count": 6,
   "metadata": {},
   "outputs": [
    {
     "name": "stdout",
     "output_type": "stream",
     "text": [
      "1 1.1249955\n",
      "2 -0.6327871875911253\n",
      "3 -4.649430655667751\n",
      "4 -118.19986234888862\n",
      "5 -63402.33294740298\n",
      "6 -18089636514.7783\n",
      "7 -1.4725572716470052e+21\n",
      "8 -9.757912132262123e+42\n",
      "9 -4.2847582131426745e+86\n",
      "10 -8.261618825292122e+173\n",
      "11 -inf\n",
      "12 -inf\n",
      "13 -inf\n",
      "14 -inf\n",
      "15 -inf\n",
      "16 -inf\n",
      "17 -inf\n",
      "18 -inf\n",
      "19 -inf\n",
      "20 -inf\n"
     ]
    }
   ],
   "source": [
    "while n < 20 :\n",
    "    n += 1\n",
    "    f_n = r*f_n*(1-f_n) \n",
    "    print(n, f_n)"
   ]
  },
  {
   "cell_type": "markdown",
   "metadata": {},
   "source": [
    "$$ f_1 = f_2 = 1, $$\n",
    "$$ f_n=f_{n-1}+f_{n-2}$$"
   ]
  },
  {
   "cell_type": "code",
   "execution_count": 7,
   "metadata": {},
   "outputs": [
    {
     "name": "stdout",
     "output_type": "stream",
     "text": [
      "1 1\n",
      "2 1\n",
      "3 2\n",
      "4 3\n",
      "5 5\n",
      "6 8\n",
      "7 13\n",
      "8 21\n",
      "9 34\n",
      "10 55\n",
      "11 89\n",
      "12 144\n"
     ]
    }
   ],
   "source": [
    "# n은 양의 정수\n",
    "def fibonacci(n): \n",
    "    if n <= 2: \n",
    "        return(1)\n",
    "    elif n >= 3:\n",
    "        return(fibonacci(n-1)+fibonacci(n-2))\n",
    "for i in range(1,13):\n",
    "    print(i,fibonacci(i))"
   ]
  },
  {
   "cell_type": "code",
   "execution_count": 8,
   "metadata": {},
   "outputs": [
    {
     "data": {
      "text/plain": [
       "55"
      ]
     },
     "execution_count": 8,
     "metadata": {},
     "output_type": "execute_result"
    }
   ],
   "source": [
    "fibonacci(10)"
   ]
  },
  {
   "cell_type": "code",
   "execution_count": 9,
   "metadata": {},
   "outputs": [
    {
     "data": {
      "text/plain": [
       "89"
      ]
     },
     "execution_count": 9,
     "metadata": {},
     "output_type": "execute_result"
    }
   ],
   "source": [
    "fibonacci(11)"
   ]
  },
  {
   "cell_type": "code",
   "execution_count": 10,
   "metadata": {},
   "outputs": [
    {
     "data": {
      "text/plain": [
       "144"
      ]
     },
     "execution_count": 10,
     "metadata": {},
     "output_type": "execute_result"
    }
   ],
   "source": [
    "fibonacci(12)"
   ]
  },
  {
   "cell_type": "markdown",
   "metadata": {},
   "source": [
    "# n번째 피보나치를 구하는 함수는 fibonacci(n) 이다."
   ]
  }
 ],
 "metadata": {
  "kernelspec": {
   "display_name": "Python 3",
   "language": "python",
   "name": "python3"
  },
  "language_info": {
   "codemirror_mode": {
    "name": "ipython",
    "version": 3
   },
   "file_extension": ".py",
   "mimetype": "text/x-python",
   "name": "python",
   "nbconvert_exporter": "python",
   "pygments_lexer": "ipython3",
   "version": "3.8.5"
  }
 },
 "nbformat": 4,
 "nbformat_minor": 4
}
